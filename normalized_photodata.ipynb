{
 "cells": [
  {
   "cell_type": "markdown",
   "metadata": {
    "id": "qt-aULBQAgJh"
   },
   "source": [
    "### Normalización de datos fotómetricos"
   ]
  },
  {
   "cell_type": "markdown",
   "metadata": {
    "id": "YHQzQkgpAluy"
   },
   "source": [
    "El objetivo de este algoritmo es normalizar los datos fotométricos. Para ello, en primer lugar, busca las coincidencias entre los identificadores de los espectros ya normalizados y los datos fotométricos con los mismos identificadores.\n",
    "\n",
    "A continuación, se lleva a cabo la normalización utilizando la siguiente fórmula:\n",
    "\n",
    "$$\n",
    "X_{j}^{\\text{norm}} = \\frac{X_j - X_{j}^{\\text{min}}}{X_{j}^{\\text{max}} - X_{j}^{\\text{min}}}\n",
    "$$\n"
   ]
  },
  {
   "cell_type": "code",
   "execution_count": null,
   "metadata": {
    "id": "5nPWxhcn4c2h"
   },
   "outputs": [],
   "source": [
    "from astropy.io import fits\n",
    "import numpy as np\n",
    "import os"
   ]
  },
  {
   "cell_type": "markdown",
   "metadata": {
    "id": "aoSQZPfhklWJ"
   },
   "source": [
    "#### 1. Cargar, filtrar y extraer datos\n"
   ]
  },
  {
   "cell_type": "code",
   "execution_count": null,
   "metadata": {
    "colab": {
     "base_uri": "https://localhost:8080/"
    },
    "id": "fbaHub4C5StP",
    "outputId": "77cc9622-69b2-4cbd-9895-615b25e63048"
   },
   "outputs": [
    {
     "name": "stdout",
     "output_type": "stream",
     "text": [
      "Mounted at /drive\n"
     ]
    }
   ],
   "source": [
    "from google.colab import drive\n",
    "drive.mount('/drive')"
   ]
  },
  {
   "cell_type": "code",
   "execution_count": null,
   "metadata": {
    "id": "l-fc8NEm4eq7"
   },
   "outputs": [],
   "source": [
    "#Datos\n",
    "ph_data = fits.open('/drive/My Drive/photo_data.fits') #open file\n",
    "ident = fits.open('/drive/My Drive/Data/identifier/identifiers.fits')\n"
   ]
  },
  {
   "cell_type": "markdown",
   "metadata": {
    "id": "t5L2W_t9OJ8l"
   },
   "source": [
    "Realizar seleccion cruzada para filtrar aquellos identificadores (fiberid, mjd,plate) de los datos fotométricos que se correspondan con los de los espectros normalizados (en el algoritmo normalized_spec)"
   ]
  },
  {
   "cell_type": "code",
   "execution_count": null,
   "metadata": {
    "id": "6rg9SPclOC-Y"
   },
   "outputs": [],
   "source": [
    "#extraer tablas\n",
    "photo_table = ph_data[1].data\n",
    "ident_table = ident[1].data\n",
    "\n",
    "#extraer columnas necesarias\n",
    "#de photo_data\n",
    "plate_photo = photo_table['PLATE']\n",
    "mjd_photo = photo_table['MJD']\n",
    "fiberid_photo = photo_table['FIBERID']\n",
    "\n",
    "#de identifiers\n",
    "plate_id = ident_table['plate']\n",
    "mjd_id = ident_table['mjd']\n",
    "fiberid_id = ident_table['fiberid']"
   ]
  },
  {
   "cell_type": "code",
   "execution_count": null,
   "metadata": {
    "id": "Ny9VOJBtOtJJ"
   },
   "outputs": [],
   "source": [
    "#realizar una máscara\n",
    "mask = np.zeros(len(photo_table), dtype=bool)\n",
    "\n",
    "#recorrer los identifiers para marcar coincidencias\n",
    "for i in range(len(ident_table)):\n",
    "    match = (plate_photo == plate_id[i]) & (mjd_photo == mjd_id[i]) & (fiberid_photo == fiberid_id[i])\n",
    "    mask |= match  #acumular las coincidencias"
   ]
  },
  {
   "cell_type": "code",
   "execution_count": null,
   "metadata": {
    "colab": {
     "base_uri": "https://localhost:8080/"
    },
    "id": "b_l7kGqIO34t",
    "outputId": "e0342b40-d5e8-443e-8e9c-8bd1e640a443"
   },
   "outputs": [
    {
     "name": "stdout",
     "output_type": "stream",
     "text": [
      "Se encontraron 110 coincidencias.\n"
     ]
    }
   ],
   "source": [
    "#aplicar la máscara para quedarse solo con las coincidencias\n",
    "filtered_data = photo_table[mask]\n",
    "print(f\"Se encontraron {len(filtered_data)} coincidencias.\")"
   ]
  },
  {
   "cell_type": "markdown",
   "metadata": {
    "id": "MglFvBrrjQmo"
   },
   "source": [
    "Guarda archivo con las coincidencias de la selección cruzada\n"
   ]
  },
  {
   "cell_type": "code",
   "execution_count": null,
   "metadata": {
    "colab": {
     "base_uri": "https://localhost:8080/"
    },
    "id": "2p4YxOn2PLNe",
    "outputId": "93197e31-f112-47e9-eed4-c2e0a063656e"
   },
   "outputs": [
    {
     "name": "stdout",
     "output_type": "stream",
     "text": [
      "Archivo guardado como: /drive/My Drive/Data/photo_data/photo_data_filtrado.fits\n"
     ]
    }
   ],
   "source": [
    "#crear una archivo fits con los datos filtrados\n",
    "\n",
    "#definir la nueva carpeta donde guardar el archivo\n",
    "photo_data= '/drive/My Drive/Data/photo_data'\n",
    "\n",
    "#crear la carpeta si no existe\n",
    "os.makedirs(photo_data, exist_ok=True)\n",
    "\n",
    "#ruta final del archivo\n",
    "ruta_archivo = os.path.join(photo_data, 'photo_data_filtrado.fits')\n",
    "\n",
    "#crear y guardar el archivo fits\n",
    "hdu = fits.BinTableHDU(data=filtered_data)\n",
    "hdu.writeto(ruta_archivo, overwrite=True)\n",
    "print(f\"Archivo guardado como: {ruta_archivo}\")"
   ]
  },
  {
   "cell_type": "markdown",
   "metadata": {
    "id": "-pGV7f52QbjH"
   },
   "source": [
    "Luego del filtrado con la selección cruzada, se realiza una extracción de las columnas necesarias (vector 15D) para normalizar los datos fotómetricos.\n"
   ]
  },
  {
   "cell_type": "code",
   "execution_count": null,
   "metadata": {
    "id": "cHWvdjUJmkV_"
   },
   "outputs": [],
   "source": [
    "pho_data = fits.open('/drive/My Drive/Data/photo_data/photo_data_filtrado.fits') #ruta donde estan los archivos fotométricos filtrados\n",
    "\n",
    "#extraer la tabla\n",
    "data = pho_data[1].data\n",
    "\n",
    "#extraer las columnas con las que se busca trabajar (vector 15D con datos fotométricos)\n",
    "selected_columns = ['MAG_U', 'MAG_G', 'MAG_R', 'MAG_I', 'MAG_Z',\n",
    "                    'MAG_U-MAG_G', 'MAG_G-MAG_R', 'MAG_R-MAG_I', 'MAG_I-MAG_Z', 'MAG_U-MAG_Z',\n",
    "                    'MODELUERR','MODELGERR','MODELRERR','MODELIERR', 'MODELZERR']\n",
    "\n",
    "\n",
    "#convertir los datos a un array de numpy\n",
    "#X = np.array([data[field] for field in selected_columns]).T  #.T es para transponer porque sino obtengo un arreglo que tiene (15, datos),\n",
    "#es decir cada fila representa una de las 15 features y cada columna representa un dato de la muestra. y se necesita al reves (filas:datos, columnas: 15 features)\n",
    "\n",
    "#extraer datos que se van a normalizar\n",
    "X = np.array([data[col] for col in selected_columns]).T\n"
   ]
  },
  {
   "cell_type": "code",
   "execution_count": null,
   "metadata": {
    "colab": {
     "base_uri": "https://localhost:8080/"
    },
    "id": "7doxph6gnj_w",
    "outputId": "a59d05fd-d0c6-476b-9273-968dc60d4252"
   },
   "outputs": [
    {
     "data": {
      "text/plain": [
       "array([[1.94178867e+01, 1.79564133e+01, 1.71566181e+01, ...,\n",
       "        6.89731911e-03, 5.90569992e-03, 1.38692185e-02],\n",
       "       [1.93364601e+01, 1.81576443e+01, 1.74728737e+01, ...,\n",
       "        7.18058553e-03, 7.49328174e-03, 2.02310458e-02],\n",
       "       [1.93052311e+01, 1.74404144e+01, 1.65964355e+01, ...,\n",
       "        4.02037567e-03, 3.75549961e-03, 6.62779761e-03],\n",
       "       ...,\n",
       "       [1.71055851e+01, 1.64006615e+01, 1.61457405e+01, ...,\n",
       "        4.04061843e-03, 3.83140869e-03, 8.65597744e-03],\n",
       "       [1.70133095e+01, 1.62770367e+01, 1.60988693e+01, ...,\n",
       "        3.83778824e-03, 4.18931432e-03, 9.97402333e-03],\n",
       "       [1.66233692e+01, 1.56920462e+01, 1.54076262e+01, ...,\n",
       "        3.15016508e-03, 3.60669428e-03, 9.56163462e-03]], dtype=float32)"
      ]
     },
     "execution_count": 9,
     "metadata": {},
     "output_type": "execute_result"
    }
   ],
   "source": [
    "X"
   ]
  },
  {
   "cell_type": "markdown",
   "metadata": {
    "id": "6bgaDt59Qhvc"
   },
   "source": [
    "#### 2. Normalización de los datos\n",
    "\n",
    "\n",
    "a. Se calculan los valores mínimos y máximos para cada una de los 15 *features*\n",
    "\n",
    "b. Se aplica la transformación:\n",
    "\n",
    "$$\n",
    "X_{j}^{\\text{norm}} = \\frac{X_j - X_{j}^{\\text{min}}}{X_{j}^{\\text{max}} - X_{j}^{\\text{min}}}\n",
    "$$\n",
    "\n"
   ]
  },
  {
   "cell_type": "code",
   "execution_count": null,
   "metadata": {
    "id": "83FfS1UWpcdT"
   },
   "outputs": [],
   "source": [
    "#calcular valores mínimos y máximos para cada photo feature\n",
    "X_min = np.min(X, axis=0) #axis = 0 significa que la operación de sacar el mínimo o máximo se realiza a lo largo de las filas, para cada columna\n",
    "X_max = np.max(X, axis=0)"
   ]
  },
  {
   "cell_type": "code",
   "execution_count": null,
   "metadata": {
    "colab": {
     "base_uri": "https://localhost:8080/"
    },
    "id": "v8Fq0fwApdoP",
    "outputId": "973a9586-3b5e-498b-aac4-a3047cb6f13d"
   },
   "outputs": [
    {
     "data": {
      "text/plain": [
       "array([ 1.6623369e+01,  1.5692046e+01,  1.5407626e+01,  1.5220804e+01,\n",
       "        1.5107402e+01,  7.0492363e-01,  1.3627815e-01,  1.0599518e-01,\n",
       "       -7.0480347e-02,  1.1233377e+00,  1.2448050e-02,  3.1575679e-03,\n",
       "        3.1501651e-03,  3.6066943e-03,  6.6277976e-03], dtype=float32)"
      ]
     },
     "execution_count": 11,
     "metadata": {},
     "output_type": "execute_result"
    }
   ],
   "source": [
    "X_min"
   ]
  },
  {
   "cell_type": "code",
   "execution_count": null,
   "metadata": {
    "id": "w_oIT4LRpj3Y"
   },
   "outputs": [],
   "source": [
    "#normalizar los datos\n",
    "\n",
    "#definir el denominador para que en caso de que sea cero, detenga el programa\n",
    "denominator = X_max - X_min\n",
    "if np.any(denominator == 0):\n",
    "    print('Error: Hay al menos una característica con X_max == X_min, lo que haría que la normalización no sea válida')\n",
    "    exit()  #detiene la ejecución del programa\n",
    "\n",
    "#normalización de los datos\n",
    "X_norm = (X - X_min) / denominator"
   ]
  },
  {
   "cell_type": "code",
   "execution_count": null,
   "metadata": {
    "id": "1JDZoMIkSLey"
   },
   "outputs": [],
   "source": [
    "cols = pho_data[1].columns\n",
    "\n",
    "#crear nuevas columnas para reemplazar las viejas en la tabla completa con los datos normalizados\n",
    "new_columns = []\n",
    "for col in cols:\n",
    "    if col.name in selected_columns:\n",
    "        i = selected_columns.index(col.name)\n",
    "        new_col = fits.Column(name=col.name, format=col.format, array=X_norm[:, i])\n",
    "        new_columns.append(new_col)\n",
    "    else:\n",
    "        new_columns.append(col)\n",
    "\n"
   ]
  },
  {
   "cell_type": "markdown",
   "metadata": {
    "id": "zElzoskbTX8S"
   },
   "source": [
    "#### 3. Crear el archivo con los datos fotométricos normalizados\n"
   ]
  },
  {
   "cell_type": "code",
   "execution_count": null,
   "metadata": {
    "id": "frmt95Egt8V0"
   },
   "outputs": [],
   "source": [
    "#crear la tabla con los datos normalizados\n",
    "new_hdu = fits.BinTableHDU.from_columns(new_columns)"
   ]
  },
  {
   "cell_type": "code",
   "execution_count": null,
   "metadata": {
    "colab": {
     "base_uri": "https://localhost:8080/"
    },
    "id": "oDQf90P7t4zN",
    "outputId": "66546ca3-9668-4758-ddf7-3de854a5fc5e"
   },
   "outputs": [
    {
     "name": "stdout",
     "output_type": "stream",
     "text": [
      "Datos normalizados guardados en /drive/My Drive/Data/photo_data/\n"
     ]
    }
   ],
   "source": [
    "#guardar la tabla\n",
    "output_dir = '/drive/My Drive/Data/photo_data/'\n",
    "os.makedirs(output_dir, exist_ok=True)\n",
    "\n",
    "output_path = os.path.join(output_dir, 'photo_data_normalizado.fits')\n",
    "\n",
    "hdu.writeto(output_path, overwrite=True)\n",
    "\n",
    "print(f'Datos normalizados guardados en {output_dir}')"
   ]
  }
 ],
 "metadata": {
  "colab": {
   "provenance": []
  },
  "kernelspec": {
   "display_name": "Python 3 (ipykernel)",
   "language": "python",
   "name": "python3"
  },
  "language_info": {
   "codemirror_mode": {
    "name": "ipython",
    "version": 3
   },
   "file_extension": ".py",
   "mimetype": "text/x-python",
   "name": "python",
   "nbconvert_exporter": "python",
   "pygments_lexer": "ipython3",
   "version": "3.8.17"
  }
 },
 "nbformat": 4,
 "nbformat_minor": 1
}
